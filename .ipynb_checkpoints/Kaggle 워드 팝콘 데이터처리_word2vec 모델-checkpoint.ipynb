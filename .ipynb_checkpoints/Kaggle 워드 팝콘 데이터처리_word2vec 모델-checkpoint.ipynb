{
 "cells": [
  {
   "cell_type": "code",
   "execution_count": 26,
   "id": "06776d00",
   "metadata": {},
   "outputs": [],
   "source": [
    "import pandas as pd\n",
    "import numpy as np\n",
    "import os"
   ]
  },
  {
   "cell_type": "code",
   "execution_count": 2,
   "id": "682d7109",
   "metadata": {},
   "outputs": [],
   "source": [
    "DATA_IN_PATH = './data_in/'\n",
    "TRAIN_CLEAN_DATA = 'train_clean.csv'\n",
    "\n",
    "train_data = pd.read_csv(DATA_IN_PATH + TRAIN_CLEAN_DATA)\n",
    "\n",
    "reviews = list(train_data['review'])\n",
    "sentiments = list(train_data['sentiment'])"
   ]
  },
  {
   "cell_type": "code",
   "execution_count": 3,
   "id": "e2cc4bdf",
   "metadata": {},
   "outputs": [],
   "source": [
    "sentences = []\n",
    "\n",
    "for review in reviews : \n",
    "    sentences.append(review.split())"
   ]
  },
  {
   "cell_type": "code",
   "execution_count": 4,
   "id": "8a209678",
   "metadata": {},
   "outputs": [],
   "source": [
    "# 하이퍼파라미터\n",
    "num_features = 300 # 워드 벡터 특징값 수\n",
    "min_word_count = 40 # 단어에 대한 최소 빈도 수\n",
    "num_workers = 4 # 프로세스 개수\n",
    "context = 10 # 컨텍스트 윈도 크기\n",
    "downsampling = 1e-3 # 다운 샘플링 비율"
   ]
  },
  {
   "cell_type": "code",
   "execution_count": 5,
   "id": "8d3a580a",
   "metadata": {},
   "outputs": [],
   "source": [
    "import logging"
   ]
  },
  {
   "cell_type": "code",
   "execution_count": 6,
   "id": "92b288e1",
   "metadata": {},
   "outputs": [],
   "source": [
    "logging.basicConfig(format='%(asctime)s : %(levelname)s : %(message)s', level=logging.INFO)"
   ]
  },
  {
   "cell_type": "code",
   "execution_count": 7,
   "id": "779e7e0d",
   "metadata": {},
   "outputs": [],
   "source": [
    "from gensim.models import word2vec"
   ]
  },
  {
   "cell_type": "code",
   "execution_count": 8,
   "id": "b76fe2e3",
   "metadata": {
    "scrolled": true
   },
   "outputs": [
    {
     "name": "stderr",
     "output_type": "stream",
     "text": [
      "2023-01-11 13:57:14,052 : INFO : collecting all words and their counts\n",
      "2023-01-11 13:57:14,076 : INFO : PROGRESS: at sentence #0, processed 0 words, keeping 0 word types\n"
     ]
    },
    {
     "name": "stdout",
     "output_type": "stream",
     "text": [
      "Training model...\n"
     ]
    },
    {
     "name": "stderr",
     "output_type": "stream",
     "text": [
      "2023-01-11 13:57:15,292 : INFO : PROGRESS: at sentence #10000, processed 1205223 words, keeping 51374 word types\n",
      "2023-01-11 13:57:16,312 : INFO : PROGRESS: at sentence #20000, processed 2396605 words, keeping 67660 word types\n",
      "2023-01-11 13:57:16,664 : INFO : collected 74065 word types from a corpus of 2988089 raw words and 25000 sentences\n",
      "2023-01-11 13:57:16,667 : INFO : Creating a fresh vocabulary\n",
      "2023-01-11 13:57:16,822 : INFO : Word2Vec lifecycle event {'msg': 'effective_min_count=40 retains 8160 unique words (11.02% of original 74065, drops 65905)', 'datetime': '2023-01-11T13:57:16.822635', 'gensim': '4.3.0', 'python': '3.9.7 (default, Sep 16 2021, 16:59:28) [MSC v.1916 64 bit (AMD64)]', 'platform': 'Windows-10-10.0.22621-SP0', 'event': 'prepare_vocab'}\n",
      "2023-01-11 13:57:16,824 : INFO : Word2Vec lifecycle event {'msg': 'effective_min_count=40 leaves 2627273 word corpus (87.92% of original 2988089, drops 360816)', 'datetime': '2023-01-11T13:57:16.824638', 'gensim': '4.3.0', 'python': '3.9.7 (default, Sep 16 2021, 16:59:28) [MSC v.1916 64 bit (AMD64)]', 'platform': 'Windows-10-10.0.22621-SP0', 'event': 'prepare_vocab'}\n",
      "2023-01-11 13:57:17,003 : INFO : deleting the raw counts dictionary of 74065 items\n",
      "2023-01-11 13:57:17,009 : INFO : sample=0.001 downsamples 30 most-common words\n",
      "2023-01-11 13:57:17,011 : INFO : Word2Vec lifecycle event {'msg': 'downsampling leaves estimated 2494384.49928802 word corpus (94.9%% of prior 2627273)', 'datetime': '2023-01-11T13:57:17.011173', 'gensim': '4.3.0', 'python': '3.9.7 (default, Sep 16 2021, 16:59:28) [MSC v.1916 64 bit (AMD64)]', 'platform': 'Windows-10-10.0.22621-SP0', 'event': 'prepare_vocab'}\n",
      "2023-01-11 13:57:17,284 : INFO : estimated required memory for 8160 words and 300 dimensions: 23664000 bytes\n",
      "2023-01-11 13:57:17,286 : INFO : resetting layer weights\n",
      "2023-01-11 13:57:17,326 : INFO : Word2Vec lifecycle event {'update': False, 'trim_rule': 'None', 'datetime': '2023-01-11T13:57:17.326033', 'gensim': '4.3.0', 'python': '3.9.7 (default, Sep 16 2021, 16:59:28) [MSC v.1916 64 bit (AMD64)]', 'platform': 'Windows-10-10.0.22621-SP0', 'event': 'build_vocab'}\n",
      "2023-01-11 13:57:17,328 : INFO : Word2Vec lifecycle event {'msg': 'training model with 4 workers on 8160 vocabulary and 300 features, using sg=0 hs=0 sample=0.001 negative=5 window=10 shrink_windows=True', 'datetime': '2023-01-11T13:57:17.328082', 'gensim': '4.3.0', 'python': '3.9.7 (default, Sep 16 2021, 16:59:28) [MSC v.1916 64 bit (AMD64)]', 'platform': 'Windows-10-10.0.22621-SP0', 'event': 'train'}\n",
      "2023-01-11 13:57:18,361 : INFO : EPOCH 0 - PROGRESS: at 14.70% examples, 363177 words/s, in_qsize 8, out_qsize 0\n",
      "2023-01-11 13:57:19,394 : INFO : EPOCH 0 - PROGRESS: at 32.16% examples, 394131 words/s, in_qsize 7, out_qsize 0\n",
      "2023-01-11 13:57:20,398 : INFO : EPOCH 0 - PROGRESS: at 49.04% examples, 403011 words/s, in_qsize 7, out_qsize 0\n",
      "2023-01-11 13:57:21,433 : INFO : EPOCH 0 - PROGRESS: at 66.74% examples, 408502 words/s, in_qsize 7, out_qsize 0\n",
      "2023-01-11 13:57:22,442 : INFO : EPOCH 0 - PROGRESS: at 84.99% examples, 416966 words/s, in_qsize 7, out_qsize 0\n",
      "2023-01-11 13:57:23,305 : INFO : EPOCH 0: training on 2988089 raw words (2494508 effective words) took 6.0s, 418062 effective words/s\n",
      "2023-01-11 13:57:24,326 : INFO : EPOCH 1 - PROGRESS: at 15.66% examples, 391270 words/s, in_qsize 7, out_qsize 0\n",
      "2023-01-11 13:57:25,355 : INFO : EPOCH 1 - PROGRESS: at 32.49% examples, 401023 words/s, in_qsize 7, out_qsize 0\n",
      "2023-01-11 13:57:26,356 : INFO : EPOCH 1 - PROGRESS: at 49.37% examples, 408048 words/s, in_qsize 6, out_qsize 1\n",
      "2023-01-11 13:57:27,376 : INFO : EPOCH 1 - PROGRESS: at 66.38% examples, 409846 words/s, in_qsize 7, out_qsize 0\n",
      "2023-01-11 13:57:28,376 : INFO : EPOCH 1 - PROGRESS: at 83.34% examples, 412292 words/s, in_qsize 7, out_qsize 0\n",
      "2023-01-11 13:57:29,321 : INFO : EPOCH 1: training on 2988089 raw words (2494553 effective words) took 6.0s, 415339 effective words/s\n",
      "2023-01-11 13:57:30,356 : INFO : EPOCH 2 - PROGRESS: at 16.65% examples, 410460 words/s, in_qsize 7, out_qsize 0\n",
      "2023-01-11 13:57:31,370 : INFO : EPOCH 2 - PROGRESS: at 33.82% examples, 417466 words/s, in_qsize 7, out_qsize 0\n",
      "2023-01-11 13:57:32,372 : INFO : EPOCH 2 - PROGRESS: at 51.03% examples, 421822 words/s, in_qsize 7, out_qsize 0\n",
      "2023-01-11 13:57:33,371 : INFO : EPOCH 2 - PROGRESS: at 69.33% examples, 430339 words/s, in_qsize 8, out_qsize 0\n",
      "2023-01-11 13:57:34,392 : INFO : EPOCH 2 - PROGRESS: at 86.86% examples, 430312 words/s, in_qsize 7, out_qsize 0\n",
      "2023-01-11 13:57:35,086 : INFO : EPOCH 2: training on 2988089 raw words (2494637 effective words) took 5.8s, 433397 effective words/s\n",
      "2023-01-11 13:57:36,128 : INFO : EPOCH 3 - PROGRESS: at 14.70% examples, 360677 words/s, in_qsize 7, out_qsize 0\n",
      "2023-01-11 13:57:37,174 : INFO : EPOCH 3 - PROGRESS: at 32.82% examples, 398250 words/s, in_qsize 7, out_qsize 0\n",
      "2023-01-11 13:57:38,216 : INFO : EPOCH 3 - PROGRESS: at 50.69% examples, 408748 words/s, in_qsize 7, out_qsize 0\n",
      "2023-01-11 13:57:39,224 : INFO : EPOCH 3 - PROGRESS: at 68.05% examples, 413386 words/s, in_qsize 7, out_qsize 0\n",
      "2023-01-11 13:57:40,244 : INFO : EPOCH 3 - PROGRESS: at 85.63% examples, 416733 words/s, in_qsize 7, out_qsize 0\n",
      "2023-01-11 13:57:41,036 : INFO : EPOCH 3: training on 2988089 raw words (2494185 effective words) took 5.9s, 420075 effective words/s\n",
      "2023-01-11 13:57:42,068 : INFO : EPOCH 4 - PROGRESS: at 16.30% examples, 405428 words/s, in_qsize 8, out_qsize 0\n",
      "2023-01-11 13:57:43,100 : INFO : EPOCH 4 - PROGRESS: at 33.82% examples, 415349 words/s, in_qsize 7, out_qsize 0\n",
      "2023-01-11 13:57:44,132 : INFO : EPOCH 4 - PROGRESS: at 51.68% examples, 421463 words/s, in_qsize 8, out_qsize 0\n",
      "2023-01-11 13:57:45,158 : INFO : EPOCH 4 - PROGRESS: at 69.68% examples, 425220 words/s, in_qsize 8, out_qsize 0\n",
      "2023-01-11 13:57:46,166 : INFO : EPOCH 4 - PROGRESS: at 87.17% examples, 427397 words/s, in_qsize 8, out_qsize 0\n",
      "2023-01-11 13:57:46,863 : INFO : EPOCH 4: training on 2988089 raw words (2494589 effective words) took 5.8s, 429112 effective words/s\n",
      "2023-01-11 13:57:46,866 : INFO : Word2Vec lifecycle event {'msg': 'training on 14940445 raw words (12472472 effective words) took 29.5s, 422277 effective words/s', 'datetime': '2023-01-11T13:57:46.866204', 'gensim': '4.3.0', 'python': '3.9.7 (default, Sep 16 2021, 16:59:28) [MSC v.1916 64 bit (AMD64)]', 'platform': 'Windows-10-10.0.22621-SP0', 'event': 'train'}\n",
      "2023-01-11 13:57:46,867 : INFO : Word2Vec lifecycle event {'params': 'Word2Vec<vocab=8160, vector_size=300, alpha=0.025>', 'datetime': '2023-01-11T13:57:46.867141', 'gensim': '4.3.0', 'python': '3.9.7 (default, Sep 16 2021, 16:59:28) [MSC v.1916 64 bit (AMD64)]', 'platform': 'Windows-10-10.0.22621-SP0', 'event': 'created'}\n"
     ]
    }
   ],
   "source": [
    "print('Training model...')\n",
    "model = word2vec.Word2Vec(sentences, \n",
    "                         workers=num_workers,\n",
    "                         vector_size=num_features,\n",
    "                         min_count=min_word_count,\n",
    "                         window=context,\n",
    "                         sample=downsampling)"
   ]
  },
  {
   "cell_type": "code",
   "execution_count": 9,
   "id": "d1d54ced",
   "metadata": {},
   "outputs": [
    {
     "name": "stderr",
     "output_type": "stream",
     "text": [
      "2023-01-11 13:57:46,896 : INFO : Word2Vec lifecycle event {'fname_or_handle': '300features_40minwords_10context', 'separately': 'None', 'sep_limit': 10485760, 'ignore': frozenset(), 'datetime': '2023-01-11T13:57:46.894579', 'gensim': '4.3.0', 'python': '3.9.7 (default, Sep 16 2021, 16:59:28) [MSC v.1916 64 bit (AMD64)]', 'platform': 'Windows-10-10.0.22621-SP0', 'event': 'saving'}\n",
      "2023-01-11 13:57:46,900 : INFO : not storing attribute cum_table\n",
      "2023-01-11 13:57:46,962 : INFO : saved 300features_40minwords_10context\n"
     ]
    }
   ],
   "source": [
    "model_name = '300features_40minwords_10context'\n",
    "model.save(model_name)"
   ]
  },
  {
   "cell_type": "code",
   "execution_count": 13,
   "id": "e43e6725",
   "metadata": {},
   "outputs": [],
   "source": [
    "# word2vec는 하나의 리뷰를 같은 형태의 입력값으로 만들어야한다.\n",
    "# 리뷰마다 단어의 개수가 다르기 때문에 입력값을 하나의 형태로 만들어야 한다.\n",
    "# 여기서는 문장에 있는 모든 단어의 벡터값에 대해 평균을 내어 리뷰 하나당 하나의 벡터로 만드는 방법을 사용한다.\n",
    "def get_features(words, model, num_features) :\n",
    "    # 출력 벡터 초기화\n",
    "    feature_vector = np.zeros((num_features), dtype=np.float32)\n",
    "    \n",
    "    num_words = 0\n",
    "    # 어휘사전 준비\n",
    "    index2word_set = set(model.wv.index_to_key)\n",
    "    \n",
    "    for w in words :\n",
    "        if w in index2word_set :\n",
    "            num_words += 1\n",
    "            #사전에 해당하는 단어에 대해 단어 벡터를 더함\n",
    "            feature_vector = np.add(feature_vector, model.wv.get_index(w))\n",
    "    \n",
    "    # 문장의 단어 수만큼 나누어 단어 벡터의 평균값을 문장 벡터로 함\n",
    "    feature_vector = np.divide(feature_vector, num_words)\n",
    "    return feature_vector"
   ]
  },
  {
   "cell_type": "code",
   "execution_count": 11,
   "id": "0bab4c40",
   "metadata": {},
   "outputs": [],
   "source": [
    "def get_dataset(reviews, model, num_features):\n",
    "    dataset = []\n",
    "    \n",
    "    for s in reviews :\n",
    "        dataset.append(get_features(s, model, num_features))\n",
    "        \n",
    "    reviewFeatureVecs = np.stack(dataset)\n",
    "    \n",
    "    return reviewFeatureVecs"
   ]
  },
  {
   "cell_type": "code",
   "execution_count": 16,
   "id": "90df05cf",
   "metadata": {
    "scrolled": true
   },
   "outputs": [],
   "source": [
    "test_data_vecs = get_dataset(sentences, model, num_features)"
   ]
  },
  {
   "cell_type": "code",
   "execution_count": 18,
   "id": "07fc9d03",
   "metadata": {},
   "outputs": [],
   "source": [
    "from sklearn.model_selection import train_test_split\n",
    "\n",
    "X = test_data_vecs\n",
    "y = np.array(sentiments)\n",
    "\n",
    "RANDOM_SEED = 42\n",
    "TEST_SPLIT = 0.2\n",
    "\n",
    "X_train, X_eval, y_train, y_eval = train_test_split(X, y, test_size=TEST_SPLIT, random_state=RANDOM_SEED)"
   ]
  },
  {
   "cell_type": "code",
   "execution_count": 19,
   "id": "fc4e26ea",
   "metadata": {},
   "outputs": [
    {
     "data": {
      "text/plain": [
       "LogisticRegression(class_weight='balanced')"
      ]
     },
     "execution_count": 19,
     "metadata": {},
     "output_type": "execute_result"
    }
   ],
   "source": [
    "from sklearn.linear_model import LogisticRegression\n",
    "\n",
    "lgs = LogisticRegression(class_weight='balanced')\n",
    "lgs.fit(X_train, y_train)"
   ]
  },
  {
   "cell_type": "code",
   "execution_count": 20,
   "id": "9efb3118",
   "metadata": {},
   "outputs": [
    {
     "name": "stdout",
     "output_type": "stream",
     "text": [
      "Accuracy: 0.503800\n"
     ]
    }
   ],
   "source": [
    "print('Accuracy: %f'%lgs.score(X_eval, y_eval))"
   ]
  },
  {
   "cell_type": "code",
   "execution_count": 21,
   "id": "4d3bafe7",
   "metadata": {},
   "outputs": [],
   "source": [
    "TEST_CLEAN_DATA = 'test_clean.csv'\n",
    "\n",
    "test_data = pd.read_csv(DATA_IN_PATH + TEST_CLEAN_DATA)\n",
    "\n",
    "test_review = list(test_data['review'])"
   ]
  },
  {
   "cell_type": "code",
   "execution_count": 22,
   "id": "9c8e8475",
   "metadata": {},
   "outputs": [
    {
     "data": {
      "text/html": [
       "<div>\n",
       "<style scoped>\n",
       "    .dataframe tbody tr th:only-of-type {\n",
       "        vertical-align: middle;\n",
       "    }\n",
       "\n",
       "    .dataframe tbody tr th {\n",
       "        vertical-align: top;\n",
       "    }\n",
       "\n",
       "    .dataframe thead th {\n",
       "        text-align: right;\n",
       "    }\n",
       "</style>\n",
       "<table border=\"1\" class=\"dataframe\">\n",
       "  <thead>\n",
       "    <tr style=\"text-align: right;\">\n",
       "      <th></th>\n",
       "      <th>review</th>\n",
       "      <th>id</th>\n",
       "    </tr>\n",
       "  </thead>\n",
       "  <tbody>\n",
       "    <tr>\n",
       "      <th>0</th>\n",
       "      <td>naturally film main themes mortality nostalgia...</td>\n",
       "      <td>\"12311_10\"</td>\n",
       "    </tr>\n",
       "    <tr>\n",
       "      <th>1</th>\n",
       "      <td>movie disaster within disaster film full great...</td>\n",
       "      <td>\"8348_2\"</td>\n",
       "    </tr>\n",
       "    <tr>\n",
       "      <th>2</th>\n",
       "      <td>movie kids saw tonight child loved one point k...</td>\n",
       "      <td>\"5828_4\"</td>\n",
       "    </tr>\n",
       "    <tr>\n",
       "      <th>3</th>\n",
       "      <td>afraid dark left impression several different ...</td>\n",
       "      <td>\"7186_2\"</td>\n",
       "    </tr>\n",
       "    <tr>\n",
       "      <th>4</th>\n",
       "      <td>accurate depiction small time mob life filmed ...</td>\n",
       "      <td>\"12128_7\"</td>\n",
       "    </tr>\n",
       "  </tbody>\n",
       "</table>\n",
       "</div>"
      ],
      "text/plain": [
       "                                              review          id\n",
       "0  naturally film main themes mortality nostalgia...  \"12311_10\"\n",
       "1  movie disaster within disaster film full great...    \"8348_2\"\n",
       "2  movie kids saw tonight child loved one point k...    \"5828_4\"\n",
       "3  afraid dark left impression several different ...    \"7186_2\"\n",
       "4  accurate depiction small time mob life filmed ...   \"12128_7\""
      ]
     },
     "execution_count": 22,
     "metadata": {},
     "output_type": "execute_result"
    }
   ],
   "source": [
    "test_data.head(5)"
   ]
  },
  {
   "cell_type": "code",
   "execution_count": 23,
   "id": "f999e0ce",
   "metadata": {},
   "outputs": [],
   "source": [
    "test_sentences = list()\n",
    "for review in test_review:\n",
    "    test_sentences.append(review.split())"
   ]
  },
  {
   "cell_type": "code",
   "execution_count": 24,
   "id": "58e92ae1",
   "metadata": {},
   "outputs": [],
   "source": [
    "test_data_vecs = get_dataset(test_sentences, model, num_features)"
   ]
  },
  {
   "cell_type": "code",
   "execution_count": 27,
   "id": "18a684ff",
   "metadata": {},
   "outputs": [],
   "source": [
    "DATA_OUT_PATH = './data_out/'\n",
    "\n",
    "test_predicted = lgs.predict(test_data_vecs)\n",
    "\n",
    "if not os.path.exists(DATA_OUT_PATH):\n",
    "    os.makedirs(DATA_OUT_PATH)\n",
    "    \n",
    "ids = list(test_data['id'])\n",
    "answer_dataset = pd.DataFrame({'id': ids, 'sentiment': test_predicted})\n",
    "answer_dataset.to_csv(DATA_OUT_PATH + 'lgs_w2v_answer.csv', index=False, quoting=3)"
   ]
  },
  {
   "cell_type": "code",
   "execution_count": 28,
   "id": "d9b478d1",
   "metadata": {},
   "outputs": [
    {
     "name": "stderr",
     "output_type": "stream",
     "text": [
      "2023-01-11 15:26:19,018 : INFO : Word2Vec lifecycle event {'fname_or_handle': '300features_40minwords_10context', 'separately': 'None', 'sep_limit': 10485760, 'ignore': frozenset(), 'datetime': '2023-01-11T15:26:19.018795', 'gensim': '4.3.0', 'python': '3.9.7 (default, Sep 16 2021, 16:59:28) [MSC v.1916 64 bit (AMD64)]', 'platform': 'Windows-10-10.0.22621-SP0', 'event': 'saving'}\n",
      "2023-01-11 15:26:19,022 : INFO : not storing attribute cum_table\n",
      "2023-01-11 15:26:19,082 : INFO : saved 300features_40minwords_10context\n"
     ]
    }
   ],
   "source": [
    "model_name = \"300features_40minwords_10context\"\n",
    "model.save(model_name)"
   ]
  },
  {
   "cell_type": "code",
   "execution_count": null,
   "id": "240dacc0",
   "metadata": {},
   "outputs": [],
   "source": []
  }
 ],
 "metadata": {
  "kernelspec": {
   "display_name": "Python 3 (ipykernel)",
   "language": "python",
   "name": "python3"
  },
  "language_info": {
   "codemirror_mode": {
    "name": "ipython",
    "version": 3
   },
   "file_extension": ".py",
   "mimetype": "text/x-python",
   "name": "python",
   "nbconvert_exporter": "python",
   "pygments_lexer": "ipython3",
   "version": "3.9.7"
  },
  "toc": {
   "base_numbering": 1,
   "nav_menu": {},
   "number_sections": true,
   "sideBar": true,
   "skip_h1_title": false,
   "title_cell": "Table of Contents",
   "title_sidebar": "Contents",
   "toc_cell": false,
   "toc_position": {},
   "toc_section_display": true,
   "toc_window_display": false
  }
 },
 "nbformat": 4,
 "nbformat_minor": 5
}
