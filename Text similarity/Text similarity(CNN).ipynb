{
 "cells": [
  {
   "cell_type": "code",
   "execution_count": 6,
   "id": "f3254b5d",
   "metadata": {},
   "outputs": [],
   "source": [
    "import numpy as np\n",
    "import pandas as pd\n",
    "import os\n",
    "import matplotlib.pyplot as plt\n",
    "import seaborn as sns\n",
    "import warnings\n",
    "import re\n",
    "import json\n",
    "\n",
    "import tensorflow as tf\n",
    "from tensorflow.keras.preprocessing.text import Tokenizer\n",
    "from tensorflow.keras.preprocessing.sequence import pad_sequences\n",
    "from sklearn.model_selection import train_test_split\n",
    "from tensorflow.keras.activations import relu, sigmoid\n",
    "from tensorflow.keras.layers import Dense, Dropout, Layer, Embedding, MaxPool1D, Conv1D"
   ]
  },
  {
   "cell_type": "code",
   "execution_count": 3,
   "id": "b7b7da8d",
   "metadata": {},
   "outputs": [],
   "source": [
    "DATA_IN_PATH = './data_in/'\n",
    "DATA_OUT_PATH = './data_out/'\n",
    "TRAIN_Q1_DATA = 'q1_train.npy'\n",
    "TRAIN_Q2_DATA = 'q2_train.npy'\n",
    "TRAIN_LABEL_DATA = 'label_train.npy'\n",
    "DATA_CONFIGS = 'data_configs.npy'\n",
    "\n",
    "q1_data = np.load(open(DATA_IN_PATH + TRAIN_Q1_DATA, 'rb'))\n",
    "q2_data = np.load(open(DATA_IN_PATH + TRAIN_Q2_DATA, 'rb'))\n",
    "labels = np.load(open(DATA_IN_PATH + TRAIN_LABEL_DATA, 'rb'))\n",
    "prepro_configs = json.load(open(DATA_IN_PATH + DATA_CONFIGS, 'r'))"
   ]
  },
  {
   "cell_type": "code",
   "execution_count": 7,
   "id": "c9090917",
   "metadata": {},
   "outputs": [],
   "source": [
    "class SentenceEmbedding(Layer) :\n",
    "    def __init__(self, **kargs) :\n",
    "        super(SentenceEmbedding, self).__init__()\n",
    "        \n",
    "        self.conv = Conv1D(kargs['conv_num_filters'], kargs['conv_window_size'], activation=relu, padding='same')\n",
    "        self.max_pool = MaxPool1D(kargs['max_pool_seq_len'], 1)\n",
    "        self.dense = Dense(kargs['sent_embedding_dimension'], activation=relu)\n",
    "        \n",
    "    def call(self, x) :\n",
    "        x = self.conv(x)\n",
    "        x = self.max_pool(x)\n",
    "        x = self.dense(x)\n",
    "        \n",
    "        return tf.squeeze(x, 1)"
   ]
  },
  {
   "cell_type": "code",
   "execution_count": null,
   "id": "5d21073a",
   "metadata": {},
   "outputs": [],
   "source": []
  }
 ],
 "metadata": {
  "kernelspec": {
   "display_name": "Python 3 (ipykernel)",
   "language": "python",
   "name": "python3"
  },
  "language_info": {
   "codemirror_mode": {
    "name": "ipython",
    "version": 3
   },
   "file_extension": ".py",
   "mimetype": "text/x-python",
   "name": "python",
   "nbconvert_exporter": "python",
   "pygments_lexer": "ipython3",
   "version": "3.9.7"
  },
  "toc": {
   "base_numbering": 1,
   "nav_menu": {},
   "number_sections": true,
   "sideBar": true,
   "skip_h1_title": false,
   "title_cell": "Table of Contents",
   "title_sidebar": "Contents",
   "toc_cell": false,
   "toc_position": {},
   "toc_section_display": true,
   "toc_window_display": false
  }
 },
 "nbformat": 4,
 "nbformat_minor": 5
}
