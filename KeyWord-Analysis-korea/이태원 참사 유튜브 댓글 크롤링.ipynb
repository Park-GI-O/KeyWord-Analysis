{
 "cells": [
  {
   "cell_type": "code",
   "execution_count": 1,
   "id": "bc3acbb3",
   "metadata": {},
   "outputs": [],
   "source": [
    "from selenium import webdriver\n",
    "from selenium.webdriver.common.by import By\n",
    "from selenium.webdriver.common.keys import Keys\n",
    "from openpyxl import Workbook\n",
    "from bs4 import BeautifulSoup\n",
    "import time\n",
    "import csv\n",
    "import pandas as pd\n",
    "\n",
    "import warnings\n",
    "warnings.filterwarnings('ignore')"
   ]
  },
  {
   "cell_type": "code",
   "execution_count": 2,
   "id": "ba6b6c8d",
   "metadata": {},
   "outputs": [],
   "source": [
    "wb = Workbook(write_only=True)\n",
    "ws = wb.create_sheet()\n",
    "\n",
    "driver = webdriver.Chrome('C:/chromedriver.exe')\n",
    "driver.get('https://www.youtube.com/watch?v=IRMLmx_luF8')\n",
    "driver.implicitly_wait(10)\n",
    "\n",
    "time.sleep(10)\n",
    "\n",
    "driver.execute_script('window.scrollTo(0, 300)')\n",
    "time.sleep(10)\n",
    "\n",
    "last_height = driver.execute_script('return document.documentElement.scrollHeight')\n",
    "\n",
    "while True :\n",
    "    driver.execute_script('window.scrollTo(0, document.documentElement.scrollHeight);')\n",
    "    time.sleep(4)\n",
    "    \n",
    "    new_height = driver.execute_script('return document.documentElement.scrollHeight;')\n",
    "    if new_height == last_height :\n",
    "        break\n",
    "    last_height = new_height\n",
    "time.sleep(4)\n",
    "\n",
    "try :\n",
    "    driver.find_element(By.ID, 'dismiss-button > a').click()\n",
    "except :\n",
    "    pass\n",
    "\n",
    "html_source = driver.page_source\n",
    "soup = BeautifulSoup(html_source,'html.parser')\n",
    "\n",
    "id_list = soup.select('div#header-author > h3 > a#author-text > span')\n",
    "comment_list = soup.select(\"yt-formatted-string#content-text\")\n",
    "\n",
    "id_final = []\n",
    "comment_final = []\n",
    "\n",
    "for i in range(len(comment_list)) :\n",
    "    temp_id = id_list[i].text\n",
    "    temp_id = temp_id.replace('\\n','')\n",
    "    temp_id = temp_id.replace('\\t','')\n",
    "    temp_id = temp_id.replace('    ', '')\n",
    "    id_final.append(temp_id) # 댓글 작성자\n",
    "    \n",
    "    temp_comment = comment_list[i].text\n",
    "    temp_comment = temp_comment.replace('\\n','')\n",
    "    temp_comment = temp_comment.replace('\\t','')\n",
    "    temp_comment = temp_comment.replace('    ', '')\n",
    "    comment_final.append(temp_comment) # 댓글 내용"
   ]
  },
  {
   "cell_type": "code",
   "execution_count": 3,
   "id": "5625164c",
   "metadata": {},
   "outputs": [],
   "source": [
    "pd_data = {'아이디' : id_final, '댓글 내용' : comment_final}\n",
    "youtube_pd = pd.DataFrame(pd_data)\n",
    "\n",
    "youtube_pd.to_excel('result.xlsx', index=False)"
   ]
  },
  {
   "cell_type": "code",
   "execution_count": 5,
   "id": "20981b14",
   "metadata": {},
   "outputs": [],
   "source": [
    "data = pd.read_excel('result.xlsx')"
   ]
  },
  {
   "cell_type": "code",
   "execution_count": 6,
   "id": "96cd8b85",
   "metadata": {},
   "outputs": [
    {
     "data": {
      "text/html": [
       "<div>\n",
       "<style scoped>\n",
       "    .dataframe tbody tr th:only-of-type {\n",
       "        vertical-align: middle;\n",
       "    }\n",
       "\n",
       "    .dataframe tbody tr th {\n",
       "        vertical-align: top;\n",
       "    }\n",
       "\n",
       "    .dataframe thead th {\n",
       "        text-align: right;\n",
       "    }\n",
       "</style>\n",
       "<table border=\"1\" class=\"dataframe\">\n",
       "  <thead>\n",
       "    <tr style=\"text-align: right;\">\n",
       "      <th></th>\n",
       "      <th>아이디</th>\n",
       "      <th>댓글 내용</th>\n",
       "    </tr>\n",
       "  </thead>\n",
       "  <tbody>\n",
       "    <tr>\n",
       "      <th>0</th>\n",
       "      <td>듀얼 인생</td>\n",
       "      <td>이게 영화나 드라마가 아닌 실제 상황이란게 진짜 믿겨지지 않고 그냥 공포 그 자체다..</td>\n",
       "    </tr>\n",
       "    <tr>\n",
       "      <th>1</th>\n",
       "      <td>멜로뤼</td>\n",
       "      <td>너무 무섭고 기괴하다... 단체로 있으니까 한명이 밀기 시작하면 다른 사람들도 '그...</td>\n",
       "    </tr>\n",
       "    <tr>\n",
       "      <th>2</th>\n",
       "      <td>Haisley</td>\n",
       "      <td>다들 젊고 어린 사람들인데 논다고 갔다가 죽어서 돌아오니 부모님들 얼마나 마음이 아...</td>\n",
       "    </tr>\n",
       "    <tr>\n",
       "      <th>3</th>\n",
       "      <td>클랜드</td>\n",
       "      <td>여기서 밀어밀어 라고 외쳤던분들...죽을때까지 마음의 짐 가지고 그소리에 사람들이 ...</td>\n",
       "    </tr>\n",
       "    <tr>\n",
       "      <th>4</th>\n",
       "      <td>골프사랑</td>\n",
       "      <td>고인들에 명복을 빕니다현장 구조대에 감사드립니다 원인규명에 수고하신 경찰분들 감사드립니다</td>\n",
       "    </tr>\n",
       "  </tbody>\n",
       "</table>\n",
       "</div>"
      ],
      "text/plain": [
       "         아이디                                              댓글 내용\n",
       "0      듀얼 인생   이게 영화나 드라마가 아닌 실제 상황이란게 진짜 믿겨지지 않고 그냥 공포 그 자체다..\n",
       "1        멜로뤼  너무 무섭고 기괴하다... 단체로 있으니까 한명이 밀기 시작하면 다른 사람들도 '그...\n",
       "2    Haisley  다들 젊고 어린 사람들인데 논다고 갔다가 죽어서 돌아오니 부모님들 얼마나 마음이 아...\n",
       "3        클랜드  여기서 밀어밀어 라고 외쳤던분들...죽을때까지 마음의 짐 가지고 그소리에 사람들이 ...\n",
       "4       골프사랑  고인들에 명복을 빕니다현장 구조대에 감사드립니다 원인규명에 수고하신 경찰분들 감사드립니다"
      ]
     },
     "execution_count": 6,
     "metadata": {},
     "output_type": "execute_result"
    }
   ],
   "source": [
    "data.head()"
   ]
  }
 ],
 "metadata": {
  "kernelspec": {
   "display_name": "Python 3 (ipykernel)",
   "language": "python",
   "name": "python3"
  },
  "language_info": {
   "codemirror_mode": {
    "name": "ipython",
    "version": 3
   },
   "file_extension": ".py",
   "mimetype": "text/x-python",
   "name": "python",
   "nbconvert_exporter": "python",
   "pygments_lexer": "ipython3",
   "version": "3.9.7"
  },
  "toc": {
   "base_numbering": 1,
   "nav_menu": {},
   "number_sections": true,
   "sideBar": true,
   "skip_h1_title": false,
   "title_cell": "Table of Contents",
   "title_sidebar": "Contents",
   "toc_cell": false,
   "toc_position": {},
   "toc_section_display": true,
   "toc_window_display": false
  }
 },
 "nbformat": 4,
 "nbformat_minor": 5
}
